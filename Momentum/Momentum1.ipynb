{
 "cells": [
  {
   "cell_type": "code",
   "execution_count": 128,
   "id": "7f215fc2-e85a-43ea-93c2-773b8a5885c0",
   "metadata": {},
   "outputs": [],
   "source": [
    "import backtrader as bt\n",
    "import yfinance as yf\n",
    "import matplotlib.pyplot as plt\n",
    "import pandas as pd\n",
    "import numpy as np\n",
    "import talib"
   ]
  },
  {
   "cell_type": "code",
   "execution_count": 129,
   "id": "00e98948-0114-4822-8612-5d1f332258ce",
   "metadata": {},
   "outputs": [
    {
     "name": "stderr",
     "output_type": "stream",
     "text": [
      "[*********************100%%**********************]  1 of 1 completed\n"
     ]
    },
    {
     "data": {
      "text/html": [
       "<div>\n",
       "<style scoped>\n",
       "    .dataframe tbody tr th:only-of-type {\n",
       "        vertical-align: middle;\n",
       "    }\n",
       "\n",
       "    .dataframe tbody tr th {\n",
       "        vertical-align: top;\n",
       "    }\n",
       "\n",
       "    .dataframe thead th {\n",
       "        text-align: right;\n",
       "    }\n",
       "</style>\n",
       "<table border=\"1\" class=\"dataframe\">\n",
       "  <thead>\n",
       "    <tr style=\"text-align: right;\">\n",
       "      <th></th>\n",
       "      <th>Open</th>\n",
       "      <th>High</th>\n",
       "      <th>Low</th>\n",
       "      <th>Close</th>\n",
       "      <th>Adj Close</th>\n",
       "      <th>Volume</th>\n",
       "    </tr>\n",
       "    <tr>\n",
       "      <th>Date</th>\n",
       "      <th></th>\n",
       "      <th></th>\n",
       "      <th></th>\n",
       "      <th></th>\n",
       "      <th></th>\n",
       "      <th></th>\n",
       "    </tr>\n",
       "  </thead>\n",
       "  <tbody>\n",
       "    <tr>\n",
       "      <th>2022-01-03</th>\n",
       "      <td>177.830002</td>\n",
       "      <td>182.880005</td>\n",
       "      <td>177.710007</td>\n",
       "      <td>182.009995</td>\n",
       "      <td>179.076569</td>\n",
       "      <td>104487900</td>\n",
       "    </tr>\n",
       "    <tr>\n",
       "      <th>2022-01-04</th>\n",
       "      <td>182.630005</td>\n",
       "      <td>182.940002</td>\n",
       "      <td>179.119995</td>\n",
       "      <td>179.699997</td>\n",
       "      <td>176.803833</td>\n",
       "      <td>99310400</td>\n",
       "    </tr>\n",
       "    <tr>\n",
       "      <th>2022-01-05</th>\n",
       "      <td>179.610001</td>\n",
       "      <td>180.169998</td>\n",
       "      <td>174.639999</td>\n",
       "      <td>174.919998</td>\n",
       "      <td>172.100861</td>\n",
       "      <td>94537600</td>\n",
       "    </tr>\n",
       "    <tr>\n",
       "      <th>2022-01-06</th>\n",
       "      <td>172.699997</td>\n",
       "      <td>175.300003</td>\n",
       "      <td>171.639999</td>\n",
       "      <td>172.000000</td>\n",
       "      <td>169.227936</td>\n",
       "      <td>96904000</td>\n",
       "    </tr>\n",
       "    <tr>\n",
       "      <th>2022-01-07</th>\n",
       "      <td>172.889999</td>\n",
       "      <td>174.139999</td>\n",
       "      <td>171.029999</td>\n",
       "      <td>172.169998</td>\n",
       "      <td>169.395187</td>\n",
       "      <td>86709100</td>\n",
       "    </tr>\n",
       "    <tr>\n",
       "      <th>...</th>\n",
       "      <td>...</td>\n",
       "      <td>...</td>\n",
       "      <td>...</td>\n",
       "      <td>...</td>\n",
       "      <td>...</td>\n",
       "      <td>...</td>\n",
       "    </tr>\n",
       "    <tr>\n",
       "      <th>2023-12-22</th>\n",
       "      <td>195.179993</td>\n",
       "      <td>195.410004</td>\n",
       "      <td>192.970001</td>\n",
       "      <td>193.600006</td>\n",
       "      <td>192.656189</td>\n",
       "      <td>37122800</td>\n",
       "    </tr>\n",
       "    <tr>\n",
       "      <th>2023-12-26</th>\n",
       "      <td>193.610001</td>\n",
       "      <td>193.889999</td>\n",
       "      <td>192.830002</td>\n",
       "      <td>193.050003</td>\n",
       "      <td>192.108856</td>\n",
       "      <td>28919300</td>\n",
       "    </tr>\n",
       "    <tr>\n",
       "      <th>2023-12-27</th>\n",
       "      <td>192.490005</td>\n",
       "      <td>193.500000</td>\n",
       "      <td>191.089996</td>\n",
       "      <td>193.149994</td>\n",
       "      <td>192.208359</td>\n",
       "      <td>48087700</td>\n",
       "    </tr>\n",
       "    <tr>\n",
       "      <th>2023-12-28</th>\n",
       "      <td>194.139999</td>\n",
       "      <td>194.660004</td>\n",
       "      <td>193.169998</td>\n",
       "      <td>193.580002</td>\n",
       "      <td>192.636261</td>\n",
       "      <td>34049900</td>\n",
       "    </tr>\n",
       "    <tr>\n",
       "      <th>2023-12-29</th>\n",
       "      <td>193.899994</td>\n",
       "      <td>194.399994</td>\n",
       "      <td>191.729996</td>\n",
       "      <td>192.529999</td>\n",
       "      <td>191.591385</td>\n",
       "      <td>42628800</td>\n",
       "    </tr>\n",
       "  </tbody>\n",
       "</table>\n",
       "<p>501 rows × 6 columns</p>\n",
       "</div>"
      ],
      "text/plain": [
       "                  Open        High         Low       Close   Adj Close  \\\n",
       "Date                                                                     \n",
       "2022-01-03  177.830002  182.880005  177.710007  182.009995  179.076569   \n",
       "2022-01-04  182.630005  182.940002  179.119995  179.699997  176.803833   \n",
       "2022-01-05  179.610001  180.169998  174.639999  174.919998  172.100861   \n",
       "2022-01-06  172.699997  175.300003  171.639999  172.000000  169.227936   \n",
       "2022-01-07  172.889999  174.139999  171.029999  172.169998  169.395187   \n",
       "...                ...         ...         ...         ...         ...   \n",
       "2023-12-22  195.179993  195.410004  192.970001  193.600006  192.656189   \n",
       "2023-12-26  193.610001  193.889999  192.830002  193.050003  192.108856   \n",
       "2023-12-27  192.490005  193.500000  191.089996  193.149994  192.208359   \n",
       "2023-12-28  194.139999  194.660004  193.169998  193.580002  192.636261   \n",
       "2023-12-29  193.899994  194.399994  191.729996  192.529999  191.591385   \n",
       "\n",
       "               Volume  \n",
       "Date                   \n",
       "2022-01-03  104487900  \n",
       "2022-01-04   99310400  \n",
       "2022-01-05   94537600  \n",
       "2022-01-06   96904000  \n",
       "2022-01-07   86709100  \n",
       "...               ...  \n",
       "2023-12-22   37122800  \n",
       "2023-12-26   28919300  \n",
       "2023-12-27   48087700  \n",
       "2023-12-28   34049900  \n",
       "2023-12-29   42628800  \n",
       "\n",
       "[501 rows x 6 columns]"
      ]
     },
     "execution_count": 129,
     "metadata": {},
     "output_type": "execute_result"
    }
   ],
   "source": [
    "data = yf.download(\"AAPL\", start=\"2022-01-01\", end=\"2024-01-01\")\n",
    "data"
   ]
  },
  {
   "cell_type": "code",
   "execution_count": 130,
   "id": "9df82eda-6014-4a5f-b1c7-57dd9027b064",
   "metadata": {},
   "outputs": [
    {
     "data": {
      "text/plain": [
       "Date\n",
       "2022-01-24    15.097578\n",
       "2022-01-25    14.138460\n",
       "2022-01-26    14.091307\n",
       "2022-01-27    13.831862\n",
       "2022-01-28    41.330315\n",
       "                ...    \n",
       "2023-12-22    54.609714\n",
       "2023-12-26    53.026883\n",
       "2023-12-27    53.291938\n",
       "2023-12-28    54.481470\n",
       "2023-12-29    51.061838\n",
       "Name: RSI, Length: 487, dtype: float64"
      ]
     },
     "execution_count": 130,
     "metadata": {},
     "output_type": "execute_result"
    }
   ],
   "source": [
    "data['RSI'] = talib.RSI(data['Close'], timeperiod=14)\n",
    "data['RSI'].dropna()"
   ]
  },
  {
   "cell_type": "code",
   "execution_count": 131,
   "id": "c5a36667-50da-4316-bf50-e04c91bd69bf",
   "metadata": {},
   "outputs": [],
   "source": [
    "# Buy when RSI < 30 (oversold), Sell when RSI > 70 (overbought)\n",
    "data['Signal'] = np.where(data['RSI'] < 30, 1, 0)  \n",
    "data['Signal'] = np.where(data['RSI'] > 70, -1, data['Signal'])"
   ]
  },
  {
   "cell_type": "code",
   "execution_count": 132,
   "id": "4e8a7109-bc93-4897-a034-e4c174ce4089",
   "metadata": {},
   "outputs": [],
   "source": [
    "initial_cash = 10000\n",
    "cash = initial_cash\n",
    "position=0\n",
    "portfolio_value=cash\n",
    "\n",
    "trade_history=[]\n"
   ]
  },
  {
   "cell_type": "code",
   "execution_count": 133,
   "id": "ebe80af1-f08c-4aa5-96b7-327842fa4b76",
   "metadata": {},
   "outputs": [],
   "source": [
    "for i in range(1,len(data)):\n",
    "    \n",
    "    signal=data['Signal'].iloc[i]\n",
    "    price=data['Close'].iloc[i]\n",
    "\n",
    "    if signal == 1 and position == 0:\n",
    "        position = cash // price\n",
    "        cash -= position * price\n",
    "        trade_history.append(('BUY', data.index[i], price, position))\n",
    "\n",
    "    elif signal == -1 and position > 0:\n",
    "        cash += position * price\n",
    "        trade_history.append(('SELL', data.index[i], price, position))\n",
    "        position = 0\n",
    "\n",
    "    portfolio_value = cash + position * price\n",
    "\n",
    "\n",
    "data['Portfolio_Value'] = cash + (position * data['Close'])\n",
    "        "
   ]
  },
  {
   "cell_type": "code",
   "execution_count": 134,
   "id": "20eaa944-40fb-45f8-a735-9e048be9c318",
   "metadata": {},
   "outputs": [
    {
     "name": "stdout",
     "output_type": "stream",
     "text": [
      "            Portfolio_Value  Cumulative_Returns\n",
      "Date                                           \n",
      "2023-12-22     11625.390747                 1.0\n",
      "2023-12-26     11625.390747                 1.0\n",
      "2023-12-27     11625.390747                 1.0\n",
      "2023-12-28     11625.390747                 1.0\n",
      "2023-12-29     11625.390747                 1.0\n"
     ]
    }
   ],
   "source": [
    "data['Cumulative_Returns'] = (1 + data['Portfolio_Value'].pct_change()).cumprod()\n",
    "print(data[['Portfolio_Value', 'Cumulative_Returns']].tail())\n"
   ]
  },
  {
   "cell_type": "code",
   "execution_count": 135,
   "id": "f04f718e-93ee-4a0d-9e71-2892687cf49d",
   "metadata": {},
   "outputs": [
    {
     "data": {
      "text/plain": [
       "[('BUY', Timestamp('2022-01-24 00:00:00'), 161.6199951171875, 61.0),\n",
       " ('SELL', Timestamp('2022-07-29 00:00:00'), 162.50999450683594, 61.0),\n",
       " ('BUY', Timestamp('2022-09-30 00:00:00'), 138.1999969482422, 72.0),\n",
       " ('SELL', Timestamp('2023-02-02 00:00:00'), 150.82000732421875, 72.0),\n",
       " ('BUY', Timestamp('2023-08-07 00:00:00'), 178.85000610351562, 61.0),\n",
       " ('SELL', Timestamp('2023-11-16 00:00:00'), 189.7100067138672, 61.0)]"
      ]
     },
     "execution_count": 135,
     "metadata": {},
     "output_type": "execute_result"
    }
   ],
   "source": [
    "trade_history"
   ]
  },
  {
   "cell_type": "code",
   "execution_count": 136,
   "id": "bf119926-d9ba-4f60-acc6-77325e4ebad9",
   "metadata": {},
   "outputs": [
    {
     "name": "stderr",
     "output_type": "stream",
     "text": [
      "[*********************100%%**********************]  1 of 1 completed\n"
     ]
    }
   ],
   "source": [
    "data2= yf.download(\"AAPL\", start=\"2023-06-01\", end=\"2024-01-01\",interval='1h')"
   ]
  },
  {
   "cell_type": "code",
   "execution_count": 141,
   "id": "c2fab467-51db-4fd8-ba5f-14b84c408b83",
   "metadata": {},
   "outputs": [
    {
     "data": {
      "text/plain": [
       "Datetime\n",
       "2023-06-05 09:30:00-04:00    88.110308\n",
       "2023-06-05 10:30:00-04:00    88.950954\n",
       "2023-06-05 11:30:00-04:00    89.446112\n",
       "2023-06-05 12:30:00-04:00    83.929097\n",
       "2023-06-05 13:30:00-04:00    72.404770\n",
       "                               ...    \n",
       "2023-12-29 11:30:00-05:00    35.346644\n",
       "2023-12-29 12:30:00-05:00    35.346644\n",
       "2023-12-29 13:30:00-05:00    38.127876\n",
       "2023-12-29 14:30:00-05:00    44.654307\n",
       "2023-12-29 15:30:00-05:00    43.250652\n",
       "Name: RSI, Length: 1007, dtype: float64"
      ]
     },
     "execution_count": 141,
     "metadata": {},
     "output_type": "execute_result"
    }
   ],
   "source": [
    "data2['RSI'] = talib.RSI(data2['Close'], timeperiod=14)\n",
    "data2['RSI'].dropna()"
   ]
  },
  {
   "cell_type": "code",
   "execution_count": 143,
   "id": "b812e8b4-b3d6-4615-89bd-c1a89a0cbf67",
   "metadata": {},
   "outputs": [],
   "source": [
    "# Buy when RSI < 30 (oversold), Sell when RSI > 70 (overbought)\n",
    "data2['Signal'] = np.where(data2['RSI'] < 30, 1, 0)  \n",
    "data2['Signal'] = np.where(data2['RSI'] > 70, -1, data2['Signal'])"
   ]
  },
  {
   "cell_type": "code",
   "execution_count": 145,
   "id": "01574794-718d-4f88-aa91-5b4c66372d65",
   "metadata": {},
   "outputs": [],
   "source": [
    "initial_cash = 10000\n",
    "cash = initial_cash\n",
    "position=0\n",
    "portfolio_value=cash\n",
    "\n",
    "trade_history=[]\n"
   ]
  },
  {
   "cell_type": "code",
   "execution_count": 146,
   "id": "34fe2b9e-fcc6-4dfb-9cfe-8fc5aea128de",
   "metadata": {},
   "outputs": [],
   "source": [
    "for i in range(1,len(data2)):\n",
    "    \n",
    "    signal=data2['Signal'].iloc[i]\n",
    "    price=data2['Close'].iloc[i]\n",
    "\n",
    "    if signal == 1 and position == 0:\n",
    "        position = cash // price\n",
    "        cash -= position * price\n",
    "        trade_history.append(('BUY', data2.index[i], price, position))\n",
    "\n",
    "    elif signal == -1 and position > 0:\n",
    "        cash += position * price\n",
    "        trade_history.append(('SELL', data2.index[i], price, position))\n",
    "        position = 0\n",
    "\n",
    "    portfolio_value = cash + position * price\n",
    "\n",
    "\n",
    "data2['Portfolio_Value'] = cash + (position * data2['Close'])\n",
    "        "
   ]
  },
  {
   "cell_type": "code",
   "execution_count": 147,
   "id": "0e2b79d9-9c4c-4b36-b4ad-543e6503ded1",
   "metadata": {},
   "outputs": [
    {
     "name": "stdout",
     "output_type": "stream",
     "text": [
      "                           Portfolio_Value  Cumulative_Returns\n",
      "Datetime                                                      \n",
      "2023-12-29 11:30:00-05:00      9147.301819            1.076317\n",
      "2023-12-29 12:30:00-05:00      9147.301819            1.076317\n",
      "2023-12-29 13:30:00-05:00      9157.641876            1.077534\n",
      "2023-12-29 14:30:00-05:00      9183.961761            1.080631\n",
      "2023-12-29 15:30:00-05:00      9176.442307            1.079746\n"
     ]
    }
   ],
   "source": [
    "data2['Cumulative_Returns'] = (1 + data2['Portfolio_Value'].pct_change()).cumprod()\n",
    "print(data2[['Portfolio_Value', 'Cumulative_Returns']].tail())\n"
   ]
  },
  {
   "cell_type": "code",
   "execution_count": 148,
   "id": "d05e29e6-2886-4b93-a6e9-ed9337e22340",
   "metadata": {},
   "outputs": [
    {
     "data": {
      "text/plain": [
       "[('BUY',\n",
       "  Timestamp('2023-08-02 11:30:00-0400', tz='America/New_York'),\n",
       "  191.92999267578125,\n",
       "  52.0),\n",
       " ('SELL',\n",
       "  Timestamp('2023-08-23 09:30:00-0400', tz='America/New_York'),\n",
       "  180.10499572753906,\n",
       "  52.0),\n",
       " ('BUY',\n",
       "  Timestamp('2023-09-06 13:30:00-0400', tz='America/New_York'),\n",
       "  182.63429260253906,\n",
       "  51.0),\n",
       " ('SELL',\n",
       "  Timestamp('2023-10-06 11:30:00-0400', tz='America/New_York'),\n",
       "  176.67010498046875,\n",
       "  51.0),\n",
       " ('BUY',\n",
       "  Timestamp('2023-10-20 10:30:00-0400', tz='America/New_York'),\n",
       "  172.86990356445312,\n",
       "  52.0),\n",
       " ('SELL',\n",
       "  Timestamp('2023-11-01 14:30:00-0400', tz='America/New_York'),\n",
       "  173.91000366210938,\n",
       "  52.0),\n",
       " ('BUY',\n",
       "  Timestamp('2023-12-27 09:30:00-0500', tz='America/New_York'),\n",
       "  191.6385040283203,\n",
       "  47.0)]"
      ]
     },
     "execution_count": 148,
     "metadata": {},
     "output_type": "execute_result"
    }
   ],
   "source": [
    "trade_history"
   ]
  },
  {
   "cell_type": "code",
   "execution_count": 153,
   "id": "d22a7173-8dc4-4265-9eb3-e16811647a21",
   "metadata": {},
   "outputs": [
    {
     "name": "stderr",
     "output_type": "stream",
     "text": [
      "[*********************100%%**********************]  1 of 1 completed\n"
     ]
    }
   ],
   "source": [
    "data3= yf.download(\"NVDA\", start=\"2022-01-01\", end=\"2024-01-01\")"
   ]
  },
  {
   "cell_type": "code",
   "execution_count": 158,
   "id": "f1ed6106-8f80-46e5-9e28-78f9869b4105",
   "metadata": {},
   "outputs": [
    {
     "name": "stdout",
     "output_type": "stream",
     "text": [
      "            Portfolio_Value  Cumulative_Returns\n",
      "Date                                           \n",
      "2023-12-22     10785.652782                 1.0\n",
      "2023-12-26     10785.652782                 1.0\n",
      "2023-12-27     10785.652782                 1.0\n",
      "2023-12-28     10785.652782                 1.0\n",
      "2023-12-29     10785.652782                 1.0\n"
     ]
    }
   ],
   "source": [
    "data3['RSI'] = talib.RSI(data3['Close'], timeperiod=7)\n",
    "data3['RSI'].dropna()\n",
    "\n",
    "# Buy when RSI < 30 (oversold), Sell when RSI > 70 (overbought)\n",
    "data3['Signal'] = np.where(data3['RSI'] < 20, 1, 0)  \n",
    "data3['Signal'] = np.where(data3['RSI'] > 80, -1, data3['Signal'])\n",
    "\n",
    "initial_cash = 10000\n",
    "cash = initial_cash\n",
    "position=0\n",
    "portfolio_value=cash\n",
    "\n",
    "trade_history=[]\n",
    "\n",
    "for i in range(1,len(data3)):\n",
    "    \n",
    "    signal=data3['Signal'].iloc[i]\n",
    "    price=data3['Close'].iloc[i]\n",
    "\n",
    "    if signal == 1 and position == 0:\n",
    "        position = cash // price\n",
    "        cash -= position * price\n",
    "        trade_history.append(('BUY', data3.index[i], price, position))\n",
    "\n",
    "    elif signal == -1 and position > 0:\n",
    "        cash += position * price\n",
    "        trade_history.append(('SELL', data3.index[i], price, position))\n",
    "        position = 0\n",
    "\n",
    "    portfolio_value = cash + position * price\n",
    "\n",
    "\n",
    "data3['Portfolio_Value'] = cash + (position * data3['Close'])\n",
    "        \n",
    "data3['Cumulative_Returns'] = (1 + data3['Portfolio_Value'].pct_change()).cumprod()\n",
    "print(data3[['Portfolio_Value', 'Cumulative_Returns']].tail())\n"
   ]
  },
  {
   "cell_type": "code",
   "execution_count": 159,
   "id": "accb1232-ddab-4159-94f3-20cb622b8356",
   "metadata": {},
   "outputs": [
    {
     "data": {
      "text/plain": [
       "[('BUY', Timestamp('2022-01-19 00:00:00'), 25.066999435424805, 398.0),\n",
       " ('SELL', Timestamp('2022-07-21 00:00:00'), 18.049999237060547, 398.0),\n",
       " ('BUY', Timestamp('2022-09-01 00:00:00'), 13.937000274658203, 517.0),\n",
       " ('SELL', Timestamp('2023-01-17 00:00:00'), 17.70199966430664, 517.0),\n",
       " ('BUY', Timestamp('2023-09-21 00:00:00'), 41.016998291015625, 223.0),\n",
       " ('SELL', Timestamp('2023-11-10 00:00:00'), 48.334999084472656, 223.0)]"
      ]
     },
     "execution_count": 159,
     "metadata": {},
     "output_type": "execute_result"
    }
   ],
   "source": [
    "trade_history"
   ]
  },
  {
   "cell_type": "code",
   "execution_count": null,
   "id": "1e0155b0-0d11-4353-892a-488afb4f7a60",
   "metadata": {},
   "outputs": [],
   "source": []
  }
 ],
 "metadata": {
  "kernelspec": {
   "display_name": "Python 3.12 (myenv)",
   "language": "python",
   "name": "myenv"
  },
  "language_info": {
   "codemirror_mode": {
    "name": "ipython",
    "version": 3
   },
   "file_extension": ".py",
   "mimetype": "text/x-python",
   "name": "python",
   "nbconvert_exporter": "python",
   "pygments_lexer": "ipython3",
   "version": "3.12.2"
  }
 },
 "nbformat": 4,
 "nbformat_minor": 5
}
